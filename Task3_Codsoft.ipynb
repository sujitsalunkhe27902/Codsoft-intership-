{
  "nbformat": 4,
  "nbformat_minor": 0,
  "metadata": {
    "colab": {
      "provenance": [],
      "include_colab_link": true
    },
    "kernelspec": {
      "name": "ir",
      "display_name": "R"
    },
    "language_info": {
      "name": "R"
    }
  },
  "cells": [
    {
      "cell_type": "markdown",
      "metadata": {
        "id": "view-in-github",
        "colab_type": "text"
      },
      "source": [
        "<a href=\"https://colab.research.google.com/github/sujitsalunkhe27902/Codsoft-intership-/blob/main/Task3_Codsoft.ipynb\" target=\"_parent\"><img src=\"https://colab.research.google.com/assets/colab-badge.svg\" alt=\"Open In Colab\"/></a>"
      ]
    },
    {
      "cell_type": "markdown",
      "source": [
        "Task 3- Iris Flower Classification\n",
        "\n",
        "Name-Sujit Uddhav Salunkhe\n",
        "\n",
        "Domain: Data Science\n",
        "\n",
        "Batch-March 2024"
      ],
      "metadata": {
        "id": "akcQRWgeWDdk"
      }
    },
    {
      "cell_type": "markdown",
      "source": [
        "Import the data"
      ],
      "metadata": {
        "id": "SgOyi0zZPU6o"
      }
    },
    {
      "cell_type": "code",
      "source": [
        "data=iris\n",
        "data"
      ],
      "metadata": {
        "colab": {
          "base_uri": "https://localhost:8080/",
          "height": 1000
        },
        "id": "Zpg6Lh7uOolA",
        "outputId": "dd6d8f0a-8934-424c-d44e-7ac2b5974898"
      },
      "execution_count": null,
      "outputs": [
        {
          "output_type": "display_data",
          "data": {
            "text/html": [
              "<table class=\"dataframe\">\n",
              "<caption>A data.frame: 150 × 5</caption>\n",
              "<thead>\n",
              "\t<tr><th scope=col>Sepal.Length</th><th scope=col>Sepal.Width</th><th scope=col>Petal.Length</th><th scope=col>Petal.Width</th><th scope=col>Species</th></tr>\n",
              "\t<tr><th scope=col>&lt;dbl&gt;</th><th scope=col>&lt;dbl&gt;</th><th scope=col>&lt;dbl&gt;</th><th scope=col>&lt;dbl&gt;</th><th scope=col>&lt;fct&gt;</th></tr>\n",
              "</thead>\n",
              "<tbody>\n",
              "\t<tr><td>5.1</td><td>3.5</td><td>1.4</td><td>0.2</td><td>setosa</td></tr>\n",
              "\t<tr><td>4.9</td><td>3.0</td><td>1.4</td><td>0.2</td><td>setosa</td></tr>\n",
              "\t<tr><td>4.7</td><td>3.2</td><td>1.3</td><td>0.2</td><td>setosa</td></tr>\n",
              "\t<tr><td>4.6</td><td>3.1</td><td>1.5</td><td>0.2</td><td>setosa</td></tr>\n",
              "\t<tr><td>5.0</td><td>3.6</td><td>1.4</td><td>0.2</td><td>setosa</td></tr>\n",
              "\t<tr><td>5.4</td><td>3.9</td><td>1.7</td><td>0.4</td><td>setosa</td></tr>\n",
              "\t<tr><td>4.6</td><td>3.4</td><td>1.4</td><td>0.3</td><td>setosa</td></tr>\n",
              "\t<tr><td>5.0</td><td>3.4</td><td>1.5</td><td>0.2</td><td>setosa</td></tr>\n",
              "\t<tr><td>4.4</td><td>2.9</td><td>1.4</td><td>0.2</td><td>setosa</td></tr>\n",
              "\t<tr><td>4.9</td><td>3.1</td><td>1.5</td><td>0.1</td><td>setosa</td></tr>\n",
              "\t<tr><td>5.4</td><td>3.7</td><td>1.5</td><td>0.2</td><td>setosa</td></tr>\n",
              "\t<tr><td>4.8</td><td>3.4</td><td>1.6</td><td>0.2</td><td>setosa</td></tr>\n",
              "\t<tr><td>4.8</td><td>3.0</td><td>1.4</td><td>0.1</td><td>setosa</td></tr>\n",
              "\t<tr><td>4.3</td><td>3.0</td><td>1.1</td><td>0.1</td><td>setosa</td></tr>\n",
              "\t<tr><td>5.8</td><td>4.0</td><td>1.2</td><td>0.2</td><td>setosa</td></tr>\n",
              "\t<tr><td>5.7</td><td>4.4</td><td>1.5</td><td>0.4</td><td>setosa</td></tr>\n",
              "\t<tr><td>5.4</td><td>3.9</td><td>1.3</td><td>0.4</td><td>setosa</td></tr>\n",
              "\t<tr><td>5.1</td><td>3.5</td><td>1.4</td><td>0.3</td><td>setosa</td></tr>\n",
              "\t<tr><td>5.7</td><td>3.8</td><td>1.7</td><td>0.3</td><td>setosa</td></tr>\n",
              "\t<tr><td>5.1</td><td>3.8</td><td>1.5</td><td>0.3</td><td>setosa</td></tr>\n",
              "\t<tr><td>5.4</td><td>3.4</td><td>1.7</td><td>0.2</td><td>setosa</td></tr>\n",
              "\t<tr><td>5.1</td><td>3.7</td><td>1.5</td><td>0.4</td><td>setosa</td></tr>\n",
              "\t<tr><td>4.6</td><td>3.6</td><td>1.0</td><td>0.2</td><td>setosa</td></tr>\n",
              "\t<tr><td>5.1</td><td>3.3</td><td>1.7</td><td>0.5</td><td>setosa</td></tr>\n",
              "\t<tr><td>4.8</td><td>3.4</td><td>1.9</td><td>0.2</td><td>setosa</td></tr>\n",
              "\t<tr><td>5.0</td><td>3.0</td><td>1.6</td><td>0.2</td><td>setosa</td></tr>\n",
              "\t<tr><td>5.0</td><td>3.4</td><td>1.6</td><td>0.4</td><td>setosa</td></tr>\n",
              "\t<tr><td>5.2</td><td>3.5</td><td>1.5</td><td>0.2</td><td>setosa</td></tr>\n",
              "\t<tr><td>5.2</td><td>3.4</td><td>1.4</td><td>0.2</td><td>setosa</td></tr>\n",
              "\t<tr><td>4.7</td><td>3.2</td><td>1.6</td><td>0.2</td><td>setosa</td></tr>\n",
              "\t<tr><td>⋮</td><td>⋮</td><td>⋮</td><td>⋮</td><td>⋮</td></tr>\n",
              "\t<tr><td>6.9</td><td>3.2</td><td>5.7</td><td>2.3</td><td>virginica</td></tr>\n",
              "\t<tr><td>5.6</td><td>2.8</td><td>4.9</td><td>2.0</td><td>virginica</td></tr>\n",
              "\t<tr><td>7.7</td><td>2.8</td><td>6.7</td><td>2.0</td><td>virginica</td></tr>\n",
              "\t<tr><td>6.3</td><td>2.7</td><td>4.9</td><td>1.8</td><td>virginica</td></tr>\n",
              "\t<tr><td>6.7</td><td>3.3</td><td>5.7</td><td>2.1</td><td>virginica</td></tr>\n",
              "\t<tr><td>7.2</td><td>3.2</td><td>6.0</td><td>1.8</td><td>virginica</td></tr>\n",
              "\t<tr><td>6.2</td><td>2.8</td><td>4.8</td><td>1.8</td><td>virginica</td></tr>\n",
              "\t<tr><td>6.1</td><td>3.0</td><td>4.9</td><td>1.8</td><td>virginica</td></tr>\n",
              "\t<tr><td>6.4</td><td>2.8</td><td>5.6</td><td>2.1</td><td>virginica</td></tr>\n",
              "\t<tr><td>7.2</td><td>3.0</td><td>5.8</td><td>1.6</td><td>virginica</td></tr>\n",
              "\t<tr><td>7.4</td><td>2.8</td><td>6.1</td><td>1.9</td><td>virginica</td></tr>\n",
              "\t<tr><td>7.9</td><td>3.8</td><td>6.4</td><td>2.0</td><td>virginica</td></tr>\n",
              "\t<tr><td>6.4</td><td>2.8</td><td>5.6</td><td>2.2</td><td>virginica</td></tr>\n",
              "\t<tr><td>6.3</td><td>2.8</td><td>5.1</td><td>1.5</td><td>virginica</td></tr>\n",
              "\t<tr><td>6.1</td><td>2.6</td><td>5.6</td><td>1.4</td><td>virginica</td></tr>\n",
              "\t<tr><td>7.7</td><td>3.0</td><td>6.1</td><td>2.3</td><td>virginica</td></tr>\n",
              "\t<tr><td>6.3</td><td>3.4</td><td>5.6</td><td>2.4</td><td>virginica</td></tr>\n",
              "\t<tr><td>6.4</td><td>3.1</td><td>5.5</td><td>1.8</td><td>virginica</td></tr>\n",
              "\t<tr><td>6.0</td><td>3.0</td><td>4.8</td><td>1.8</td><td>virginica</td></tr>\n",
              "\t<tr><td>6.9</td><td>3.1</td><td>5.4</td><td>2.1</td><td>virginica</td></tr>\n",
              "\t<tr><td>6.7</td><td>3.1</td><td>5.6</td><td>2.4</td><td>virginica</td></tr>\n",
              "\t<tr><td>6.9</td><td>3.1</td><td>5.1</td><td>2.3</td><td>virginica</td></tr>\n",
              "\t<tr><td>5.8</td><td>2.7</td><td>5.1</td><td>1.9</td><td>virginica</td></tr>\n",
              "\t<tr><td>6.8</td><td>3.2</td><td>5.9</td><td>2.3</td><td>virginica</td></tr>\n",
              "\t<tr><td>6.7</td><td>3.3</td><td>5.7</td><td>2.5</td><td>virginica</td></tr>\n",
              "\t<tr><td>6.7</td><td>3.0</td><td>5.2</td><td>2.3</td><td>virginica</td></tr>\n",
              "\t<tr><td>6.3</td><td>2.5</td><td>5.0</td><td>1.9</td><td>virginica</td></tr>\n",
              "\t<tr><td>6.5</td><td>3.0</td><td>5.2</td><td>2.0</td><td>virginica</td></tr>\n",
              "\t<tr><td>6.2</td><td>3.4</td><td>5.4</td><td>2.3</td><td>virginica</td></tr>\n",
              "\t<tr><td>5.9</td><td>3.0</td><td>5.1</td><td>1.8</td><td>virginica</td></tr>\n",
              "</tbody>\n",
              "</table>\n"
            ],
            "text/markdown": "\nA data.frame: 150 × 5\n\n| Sepal.Length &lt;dbl&gt; | Sepal.Width &lt;dbl&gt; | Petal.Length &lt;dbl&gt; | Petal.Width &lt;dbl&gt; | Species &lt;fct&gt; |\n|---|---|---|---|---|\n| 5.1 | 3.5 | 1.4 | 0.2 | setosa |\n| 4.9 | 3.0 | 1.4 | 0.2 | setosa |\n| 4.7 | 3.2 | 1.3 | 0.2 | setosa |\n| 4.6 | 3.1 | 1.5 | 0.2 | setosa |\n| 5.0 | 3.6 | 1.4 | 0.2 | setosa |\n| 5.4 | 3.9 | 1.7 | 0.4 | setosa |\n| 4.6 | 3.4 | 1.4 | 0.3 | setosa |\n| 5.0 | 3.4 | 1.5 | 0.2 | setosa |\n| 4.4 | 2.9 | 1.4 | 0.2 | setosa |\n| 4.9 | 3.1 | 1.5 | 0.1 | setosa |\n| 5.4 | 3.7 | 1.5 | 0.2 | setosa |\n| 4.8 | 3.4 | 1.6 | 0.2 | setosa |\n| 4.8 | 3.0 | 1.4 | 0.1 | setosa |\n| 4.3 | 3.0 | 1.1 | 0.1 | setosa |\n| 5.8 | 4.0 | 1.2 | 0.2 | setosa |\n| 5.7 | 4.4 | 1.5 | 0.4 | setosa |\n| 5.4 | 3.9 | 1.3 | 0.4 | setosa |\n| 5.1 | 3.5 | 1.4 | 0.3 | setosa |\n| 5.7 | 3.8 | 1.7 | 0.3 | setosa |\n| 5.1 | 3.8 | 1.5 | 0.3 | setosa |\n| 5.4 | 3.4 | 1.7 | 0.2 | setosa |\n| 5.1 | 3.7 | 1.5 | 0.4 | setosa |\n| 4.6 | 3.6 | 1.0 | 0.2 | setosa |\n| 5.1 | 3.3 | 1.7 | 0.5 | setosa |\n| 4.8 | 3.4 | 1.9 | 0.2 | setosa |\n| 5.0 | 3.0 | 1.6 | 0.2 | setosa |\n| 5.0 | 3.4 | 1.6 | 0.4 | setosa |\n| 5.2 | 3.5 | 1.5 | 0.2 | setosa |\n| 5.2 | 3.4 | 1.4 | 0.2 | setosa |\n| 4.7 | 3.2 | 1.6 | 0.2 | setosa |\n| ⋮ | ⋮ | ⋮ | ⋮ | ⋮ |\n| 6.9 | 3.2 | 5.7 | 2.3 | virginica |\n| 5.6 | 2.8 | 4.9 | 2.0 | virginica |\n| 7.7 | 2.8 | 6.7 | 2.0 | virginica |\n| 6.3 | 2.7 | 4.9 | 1.8 | virginica |\n| 6.7 | 3.3 | 5.7 | 2.1 | virginica |\n| 7.2 | 3.2 | 6.0 | 1.8 | virginica |\n| 6.2 | 2.8 | 4.8 | 1.8 | virginica |\n| 6.1 | 3.0 | 4.9 | 1.8 | virginica |\n| 6.4 | 2.8 | 5.6 | 2.1 | virginica |\n| 7.2 | 3.0 | 5.8 | 1.6 | virginica |\n| 7.4 | 2.8 | 6.1 | 1.9 | virginica |\n| 7.9 | 3.8 | 6.4 | 2.0 | virginica |\n| 6.4 | 2.8 | 5.6 | 2.2 | virginica |\n| 6.3 | 2.8 | 5.1 | 1.5 | virginica |\n| 6.1 | 2.6 | 5.6 | 1.4 | virginica |\n| 7.7 | 3.0 | 6.1 | 2.3 | virginica |\n| 6.3 | 3.4 | 5.6 | 2.4 | virginica |\n| 6.4 | 3.1 | 5.5 | 1.8 | virginica |\n| 6.0 | 3.0 | 4.8 | 1.8 | virginica |\n| 6.9 | 3.1 | 5.4 | 2.1 | virginica |\n| 6.7 | 3.1 | 5.6 | 2.4 | virginica |\n| 6.9 | 3.1 | 5.1 | 2.3 | virginica |\n| 5.8 | 2.7 | 5.1 | 1.9 | virginica |\n| 6.8 | 3.2 | 5.9 | 2.3 | virginica |\n| 6.7 | 3.3 | 5.7 | 2.5 | virginica |\n| 6.7 | 3.0 | 5.2 | 2.3 | virginica |\n| 6.3 | 2.5 | 5.0 | 1.9 | virginica |\n| 6.5 | 3.0 | 5.2 | 2.0 | virginica |\n| 6.2 | 3.4 | 5.4 | 2.3 | virginica |\n| 5.9 | 3.0 | 5.1 | 1.8 | virginica |\n\n",
            "text/latex": "A data.frame: 150 × 5\n\\begin{tabular}{lllll}\n Sepal.Length & Sepal.Width & Petal.Length & Petal.Width & Species\\\\\n <dbl> & <dbl> & <dbl> & <dbl> & <fct>\\\\\n\\hline\n\t 5.1 & 3.5 & 1.4 & 0.2 & setosa\\\\\n\t 4.9 & 3.0 & 1.4 & 0.2 & setosa\\\\\n\t 4.7 & 3.2 & 1.3 & 0.2 & setosa\\\\\n\t 4.6 & 3.1 & 1.5 & 0.2 & setosa\\\\\n\t 5.0 & 3.6 & 1.4 & 0.2 & setosa\\\\\n\t 5.4 & 3.9 & 1.7 & 0.4 & setosa\\\\\n\t 4.6 & 3.4 & 1.4 & 0.3 & setosa\\\\\n\t 5.0 & 3.4 & 1.5 & 0.2 & setosa\\\\\n\t 4.4 & 2.9 & 1.4 & 0.2 & setosa\\\\\n\t 4.9 & 3.1 & 1.5 & 0.1 & setosa\\\\\n\t 5.4 & 3.7 & 1.5 & 0.2 & setosa\\\\\n\t 4.8 & 3.4 & 1.6 & 0.2 & setosa\\\\\n\t 4.8 & 3.0 & 1.4 & 0.1 & setosa\\\\\n\t 4.3 & 3.0 & 1.1 & 0.1 & setosa\\\\\n\t 5.8 & 4.0 & 1.2 & 0.2 & setosa\\\\\n\t 5.7 & 4.4 & 1.5 & 0.4 & setosa\\\\\n\t 5.4 & 3.9 & 1.3 & 0.4 & setosa\\\\\n\t 5.1 & 3.5 & 1.4 & 0.3 & setosa\\\\\n\t 5.7 & 3.8 & 1.7 & 0.3 & setosa\\\\\n\t 5.1 & 3.8 & 1.5 & 0.3 & setosa\\\\\n\t 5.4 & 3.4 & 1.7 & 0.2 & setosa\\\\\n\t 5.1 & 3.7 & 1.5 & 0.4 & setosa\\\\\n\t 4.6 & 3.6 & 1.0 & 0.2 & setosa\\\\\n\t 5.1 & 3.3 & 1.7 & 0.5 & setosa\\\\\n\t 4.8 & 3.4 & 1.9 & 0.2 & setosa\\\\\n\t 5.0 & 3.0 & 1.6 & 0.2 & setosa\\\\\n\t 5.0 & 3.4 & 1.6 & 0.4 & setosa\\\\\n\t 5.2 & 3.5 & 1.5 & 0.2 & setosa\\\\\n\t 5.2 & 3.4 & 1.4 & 0.2 & setosa\\\\\n\t 4.7 & 3.2 & 1.6 & 0.2 & setosa\\\\\n\t ⋮ & ⋮ & ⋮ & ⋮ & ⋮\\\\\n\t 6.9 & 3.2 & 5.7 & 2.3 & virginica\\\\\n\t 5.6 & 2.8 & 4.9 & 2.0 & virginica\\\\\n\t 7.7 & 2.8 & 6.7 & 2.0 & virginica\\\\\n\t 6.3 & 2.7 & 4.9 & 1.8 & virginica\\\\\n\t 6.7 & 3.3 & 5.7 & 2.1 & virginica\\\\\n\t 7.2 & 3.2 & 6.0 & 1.8 & virginica\\\\\n\t 6.2 & 2.8 & 4.8 & 1.8 & virginica\\\\\n\t 6.1 & 3.0 & 4.9 & 1.8 & virginica\\\\\n\t 6.4 & 2.8 & 5.6 & 2.1 & virginica\\\\\n\t 7.2 & 3.0 & 5.8 & 1.6 & virginica\\\\\n\t 7.4 & 2.8 & 6.1 & 1.9 & virginica\\\\\n\t 7.9 & 3.8 & 6.4 & 2.0 & virginica\\\\\n\t 6.4 & 2.8 & 5.6 & 2.2 & virginica\\\\\n\t 6.3 & 2.8 & 5.1 & 1.5 & virginica\\\\\n\t 6.1 & 2.6 & 5.6 & 1.4 & virginica\\\\\n\t 7.7 & 3.0 & 6.1 & 2.3 & virginica\\\\\n\t 6.3 & 3.4 & 5.6 & 2.4 & virginica\\\\\n\t 6.4 & 3.1 & 5.5 & 1.8 & virginica\\\\\n\t 6.0 & 3.0 & 4.8 & 1.8 & virginica\\\\\n\t 6.9 & 3.1 & 5.4 & 2.1 & virginica\\\\\n\t 6.7 & 3.1 & 5.6 & 2.4 & virginica\\\\\n\t 6.9 & 3.1 & 5.1 & 2.3 & virginica\\\\\n\t 5.8 & 2.7 & 5.1 & 1.9 & virginica\\\\\n\t 6.8 & 3.2 & 5.9 & 2.3 & virginica\\\\\n\t 6.7 & 3.3 & 5.7 & 2.5 & virginica\\\\\n\t 6.7 & 3.0 & 5.2 & 2.3 & virginica\\\\\n\t 6.3 & 2.5 & 5.0 & 1.9 & virginica\\\\\n\t 6.5 & 3.0 & 5.2 & 2.0 & virginica\\\\\n\t 6.2 & 3.4 & 5.4 & 2.3 & virginica\\\\\n\t 5.9 & 3.0 & 5.1 & 1.8 & virginica\\\\\n\\end{tabular}\n",
            "text/plain": [
              "    Sepal.Length Sepal.Width Petal.Length Petal.Width Species  \n",
              "1   5.1          3.5         1.4          0.2         setosa   \n",
              "2   4.9          3.0         1.4          0.2         setosa   \n",
              "3   4.7          3.2         1.3          0.2         setosa   \n",
              "4   4.6          3.1         1.5          0.2         setosa   \n",
              "5   5.0          3.6         1.4          0.2         setosa   \n",
              "6   5.4          3.9         1.7          0.4         setosa   \n",
              "7   4.6          3.4         1.4          0.3         setosa   \n",
              "8   5.0          3.4         1.5          0.2         setosa   \n",
              "9   4.4          2.9         1.4          0.2         setosa   \n",
              "10  4.9          3.1         1.5          0.1         setosa   \n",
              "11  5.4          3.7         1.5          0.2         setosa   \n",
              "12  4.8          3.4         1.6          0.2         setosa   \n",
              "13  4.8          3.0         1.4          0.1         setosa   \n",
              "14  4.3          3.0         1.1          0.1         setosa   \n",
              "15  5.8          4.0         1.2          0.2         setosa   \n",
              "16  5.7          4.4         1.5          0.4         setosa   \n",
              "17  5.4          3.9         1.3          0.4         setosa   \n",
              "18  5.1          3.5         1.4          0.3         setosa   \n",
              "19  5.7          3.8         1.7          0.3         setosa   \n",
              "20  5.1          3.8         1.5          0.3         setosa   \n",
              "21  5.4          3.4         1.7          0.2         setosa   \n",
              "22  5.1          3.7         1.5          0.4         setosa   \n",
              "23  4.6          3.6         1.0          0.2         setosa   \n",
              "24  5.1          3.3         1.7          0.5         setosa   \n",
              "25  4.8          3.4         1.9          0.2         setosa   \n",
              "26  5.0          3.0         1.6          0.2         setosa   \n",
              "27  5.0          3.4         1.6          0.4         setosa   \n",
              "28  5.2          3.5         1.5          0.2         setosa   \n",
              "29  5.2          3.4         1.4          0.2         setosa   \n",
              "30  4.7          3.2         1.6          0.2         setosa   \n",
              "⋮   ⋮            ⋮           ⋮            ⋮           ⋮        \n",
              "121 6.9          3.2         5.7          2.3         virginica\n",
              "122 5.6          2.8         4.9          2.0         virginica\n",
              "123 7.7          2.8         6.7          2.0         virginica\n",
              "124 6.3          2.7         4.9          1.8         virginica\n",
              "125 6.7          3.3         5.7          2.1         virginica\n",
              "126 7.2          3.2         6.0          1.8         virginica\n",
              "127 6.2          2.8         4.8          1.8         virginica\n",
              "128 6.1          3.0         4.9          1.8         virginica\n",
              "129 6.4          2.8         5.6          2.1         virginica\n",
              "130 7.2          3.0         5.8          1.6         virginica\n",
              "131 7.4          2.8         6.1          1.9         virginica\n",
              "132 7.9          3.8         6.4          2.0         virginica\n",
              "133 6.4          2.8         5.6          2.2         virginica\n",
              "134 6.3          2.8         5.1          1.5         virginica\n",
              "135 6.1          2.6         5.6          1.4         virginica\n",
              "136 7.7          3.0         6.1          2.3         virginica\n",
              "137 6.3          3.4         5.6          2.4         virginica\n",
              "138 6.4          3.1         5.5          1.8         virginica\n",
              "139 6.0          3.0         4.8          1.8         virginica\n",
              "140 6.9          3.1         5.4          2.1         virginica\n",
              "141 6.7          3.1         5.6          2.4         virginica\n",
              "142 6.9          3.1         5.1          2.3         virginica\n",
              "143 5.8          2.7         5.1          1.9         virginica\n",
              "144 6.8          3.2         5.9          2.3         virginica\n",
              "145 6.7          3.3         5.7          2.5         virginica\n",
              "146 6.7          3.0         5.2          2.3         virginica\n",
              "147 6.3          2.5         5.0          1.9         virginica\n",
              "148 6.5          3.0         5.2          2.0         virginica\n",
              "149 6.2          3.4         5.4          2.3         virginica\n",
              "150 5.9          3.0         5.1          1.8         virginica"
            ]
          },
          "metadata": {}
        }
      ]
    },
    {
      "cell_type": "markdown",
      "source": [
        "check the data"
      ],
      "metadata": {
        "id": "PZnSfkTVPZIo"
      }
    },
    {
      "cell_type": "code",
      "source": [
        "head(data)"
      ],
      "metadata": {
        "colab": {
          "base_uri": "https://localhost:8080/",
          "height": 286
        },
        "id": "b4geNXl2PbdA",
        "outputId": "4472250d-86c4-4f05-a786-046aa13d617e"
      },
      "execution_count": null,
      "outputs": [
        {
          "output_type": "display_data",
          "data": {
            "text/html": [
              "<table class=\"dataframe\">\n",
              "<caption>A data.frame: 6 × 5</caption>\n",
              "<thead>\n",
              "\t<tr><th></th><th scope=col>Sepal.Length</th><th scope=col>Sepal.Width</th><th scope=col>Petal.Length</th><th scope=col>Petal.Width</th><th scope=col>Species</th></tr>\n",
              "\t<tr><th></th><th scope=col>&lt;dbl&gt;</th><th scope=col>&lt;dbl&gt;</th><th scope=col>&lt;dbl&gt;</th><th scope=col>&lt;dbl&gt;</th><th scope=col>&lt;fct&gt;</th></tr>\n",
              "</thead>\n",
              "<tbody>\n",
              "\t<tr><th scope=row>1</th><td>5.1</td><td>3.5</td><td>1.4</td><td>0.2</td><td>setosa</td></tr>\n",
              "\t<tr><th scope=row>2</th><td>4.9</td><td>3.0</td><td>1.4</td><td>0.2</td><td>setosa</td></tr>\n",
              "\t<tr><th scope=row>3</th><td>4.7</td><td>3.2</td><td>1.3</td><td>0.2</td><td>setosa</td></tr>\n",
              "\t<tr><th scope=row>4</th><td>4.6</td><td>3.1</td><td>1.5</td><td>0.2</td><td>setosa</td></tr>\n",
              "\t<tr><th scope=row>5</th><td>5.0</td><td>3.6</td><td>1.4</td><td>0.2</td><td>setosa</td></tr>\n",
              "\t<tr><th scope=row>6</th><td>5.4</td><td>3.9</td><td>1.7</td><td>0.4</td><td>setosa</td></tr>\n",
              "</tbody>\n",
              "</table>\n"
            ],
            "text/markdown": "\nA data.frame: 6 × 5\n\n| <!--/--> | Sepal.Length &lt;dbl&gt; | Sepal.Width &lt;dbl&gt; | Petal.Length &lt;dbl&gt; | Petal.Width &lt;dbl&gt; | Species &lt;fct&gt; |\n|---|---|---|---|---|---|\n| 1 | 5.1 | 3.5 | 1.4 | 0.2 | setosa |\n| 2 | 4.9 | 3.0 | 1.4 | 0.2 | setosa |\n| 3 | 4.7 | 3.2 | 1.3 | 0.2 | setosa |\n| 4 | 4.6 | 3.1 | 1.5 | 0.2 | setosa |\n| 5 | 5.0 | 3.6 | 1.4 | 0.2 | setosa |\n| 6 | 5.4 | 3.9 | 1.7 | 0.4 | setosa |\n\n",
            "text/latex": "A data.frame: 6 × 5\n\\begin{tabular}{r|lllll}\n  & Sepal.Length & Sepal.Width & Petal.Length & Petal.Width & Species\\\\\n  & <dbl> & <dbl> & <dbl> & <dbl> & <fct>\\\\\n\\hline\n\t1 & 5.1 & 3.5 & 1.4 & 0.2 & setosa\\\\\n\t2 & 4.9 & 3.0 & 1.4 & 0.2 & setosa\\\\\n\t3 & 4.7 & 3.2 & 1.3 & 0.2 & setosa\\\\\n\t4 & 4.6 & 3.1 & 1.5 & 0.2 & setosa\\\\\n\t5 & 5.0 & 3.6 & 1.4 & 0.2 & setosa\\\\\n\t6 & 5.4 & 3.9 & 1.7 & 0.4 & setosa\\\\\n\\end{tabular}\n",
            "text/plain": [
              "  Sepal.Length Sepal.Width Petal.Length Petal.Width Species\n",
              "1 5.1          3.5         1.4          0.2         setosa \n",
              "2 4.9          3.0         1.4          0.2         setosa \n",
              "3 4.7          3.2         1.3          0.2         setosa \n",
              "4 4.6          3.1         1.5          0.2         setosa \n",
              "5 5.0          3.6         1.4          0.2         setosa \n",
              "6 5.4          3.9         1.7          0.4         setosa "
            ]
          },
          "metadata": {}
        }
      ]
    },
    {
      "cell_type": "code",
      "source": [
        "#check in our data their is missing value or not\n",
        "is.na(data)"
      ],
      "metadata": {
        "colab": {
          "base_uri": "https://localhost:8080/",
          "height": 1000
        },
        "id": "1AM2UJ1OPfih",
        "outputId": "8e487f5a-ccae-4526-ae56-a947bd8fe9a6"
      },
      "execution_count": null,
      "outputs": [
        {
          "output_type": "display_data",
          "data": {
            "text/html": [
              "<table class=\"dataframe\">\n",
              "<caption>A matrix: 150 × 5 of type lgl</caption>\n",
              "<thead>\n",
              "\t<tr><th scope=col>Sepal.Length</th><th scope=col>Sepal.Width</th><th scope=col>Petal.Length</th><th scope=col>Petal.Width</th><th scope=col>Species</th></tr>\n",
              "</thead>\n",
              "<tbody>\n",
              "\t<tr><td>FALSE</td><td>FALSE</td><td>FALSE</td><td>FALSE</td><td>FALSE</td></tr>\n",
              "\t<tr><td>FALSE</td><td>FALSE</td><td>FALSE</td><td>FALSE</td><td>FALSE</td></tr>\n",
              "\t<tr><td>FALSE</td><td>FALSE</td><td>FALSE</td><td>FALSE</td><td>FALSE</td></tr>\n",
              "\t<tr><td>FALSE</td><td>FALSE</td><td>FALSE</td><td>FALSE</td><td>FALSE</td></tr>\n",
              "\t<tr><td>FALSE</td><td>FALSE</td><td>FALSE</td><td>FALSE</td><td>FALSE</td></tr>\n",
              "\t<tr><td>FALSE</td><td>FALSE</td><td>FALSE</td><td>FALSE</td><td>FALSE</td></tr>\n",
              "\t<tr><td>FALSE</td><td>FALSE</td><td>FALSE</td><td>FALSE</td><td>FALSE</td></tr>\n",
              "\t<tr><td>FALSE</td><td>FALSE</td><td>FALSE</td><td>FALSE</td><td>FALSE</td></tr>\n",
              "\t<tr><td>FALSE</td><td>FALSE</td><td>FALSE</td><td>FALSE</td><td>FALSE</td></tr>\n",
              "\t<tr><td>FALSE</td><td>FALSE</td><td>FALSE</td><td>FALSE</td><td>FALSE</td></tr>\n",
              "\t<tr><td>FALSE</td><td>FALSE</td><td>FALSE</td><td>FALSE</td><td>FALSE</td></tr>\n",
              "\t<tr><td>FALSE</td><td>FALSE</td><td>FALSE</td><td>FALSE</td><td>FALSE</td></tr>\n",
              "\t<tr><td>FALSE</td><td>FALSE</td><td>FALSE</td><td>FALSE</td><td>FALSE</td></tr>\n",
              "\t<tr><td>FALSE</td><td>FALSE</td><td>FALSE</td><td>FALSE</td><td>FALSE</td></tr>\n",
              "\t<tr><td>FALSE</td><td>FALSE</td><td>FALSE</td><td>FALSE</td><td>FALSE</td></tr>\n",
              "\t<tr><td>FALSE</td><td>FALSE</td><td>FALSE</td><td>FALSE</td><td>FALSE</td></tr>\n",
              "\t<tr><td>FALSE</td><td>FALSE</td><td>FALSE</td><td>FALSE</td><td>FALSE</td></tr>\n",
              "\t<tr><td>FALSE</td><td>FALSE</td><td>FALSE</td><td>FALSE</td><td>FALSE</td></tr>\n",
              "\t<tr><td>FALSE</td><td>FALSE</td><td>FALSE</td><td>FALSE</td><td>FALSE</td></tr>\n",
              "\t<tr><td>FALSE</td><td>FALSE</td><td>FALSE</td><td>FALSE</td><td>FALSE</td></tr>\n",
              "\t<tr><td>FALSE</td><td>FALSE</td><td>FALSE</td><td>FALSE</td><td>FALSE</td></tr>\n",
              "\t<tr><td>FALSE</td><td>FALSE</td><td>FALSE</td><td>FALSE</td><td>FALSE</td></tr>\n",
              "\t<tr><td>FALSE</td><td>FALSE</td><td>FALSE</td><td>FALSE</td><td>FALSE</td></tr>\n",
              "\t<tr><td>FALSE</td><td>FALSE</td><td>FALSE</td><td>FALSE</td><td>FALSE</td></tr>\n",
              "\t<tr><td>FALSE</td><td>FALSE</td><td>FALSE</td><td>FALSE</td><td>FALSE</td></tr>\n",
              "\t<tr><td>FALSE</td><td>FALSE</td><td>FALSE</td><td>FALSE</td><td>FALSE</td></tr>\n",
              "\t<tr><td>FALSE</td><td>FALSE</td><td>FALSE</td><td>FALSE</td><td>FALSE</td></tr>\n",
              "\t<tr><td>FALSE</td><td>FALSE</td><td>FALSE</td><td>FALSE</td><td>FALSE</td></tr>\n",
              "\t<tr><td>FALSE</td><td>FALSE</td><td>FALSE</td><td>FALSE</td><td>FALSE</td></tr>\n",
              "\t<tr><td>FALSE</td><td>FALSE</td><td>FALSE</td><td>FALSE</td><td>FALSE</td></tr>\n",
              "\t<tr><td>⋮</td><td>⋮</td><td>⋮</td><td>⋮</td><td>⋮</td></tr>\n",
              "\t<tr><td>FALSE</td><td>FALSE</td><td>FALSE</td><td>FALSE</td><td>FALSE</td></tr>\n",
              "\t<tr><td>FALSE</td><td>FALSE</td><td>FALSE</td><td>FALSE</td><td>FALSE</td></tr>\n",
              "\t<tr><td>FALSE</td><td>FALSE</td><td>FALSE</td><td>FALSE</td><td>FALSE</td></tr>\n",
              "\t<tr><td>FALSE</td><td>FALSE</td><td>FALSE</td><td>FALSE</td><td>FALSE</td></tr>\n",
              "\t<tr><td>FALSE</td><td>FALSE</td><td>FALSE</td><td>FALSE</td><td>FALSE</td></tr>\n",
              "\t<tr><td>FALSE</td><td>FALSE</td><td>FALSE</td><td>FALSE</td><td>FALSE</td></tr>\n",
              "\t<tr><td>FALSE</td><td>FALSE</td><td>FALSE</td><td>FALSE</td><td>FALSE</td></tr>\n",
              "\t<tr><td>FALSE</td><td>FALSE</td><td>FALSE</td><td>FALSE</td><td>FALSE</td></tr>\n",
              "\t<tr><td>FALSE</td><td>FALSE</td><td>FALSE</td><td>FALSE</td><td>FALSE</td></tr>\n",
              "\t<tr><td>FALSE</td><td>FALSE</td><td>FALSE</td><td>FALSE</td><td>FALSE</td></tr>\n",
              "\t<tr><td>FALSE</td><td>FALSE</td><td>FALSE</td><td>FALSE</td><td>FALSE</td></tr>\n",
              "\t<tr><td>FALSE</td><td>FALSE</td><td>FALSE</td><td>FALSE</td><td>FALSE</td></tr>\n",
              "\t<tr><td>FALSE</td><td>FALSE</td><td>FALSE</td><td>FALSE</td><td>FALSE</td></tr>\n",
              "\t<tr><td>FALSE</td><td>FALSE</td><td>FALSE</td><td>FALSE</td><td>FALSE</td></tr>\n",
              "\t<tr><td>FALSE</td><td>FALSE</td><td>FALSE</td><td>FALSE</td><td>FALSE</td></tr>\n",
              "\t<tr><td>FALSE</td><td>FALSE</td><td>FALSE</td><td>FALSE</td><td>FALSE</td></tr>\n",
              "\t<tr><td>FALSE</td><td>FALSE</td><td>FALSE</td><td>FALSE</td><td>FALSE</td></tr>\n",
              "\t<tr><td>FALSE</td><td>FALSE</td><td>FALSE</td><td>FALSE</td><td>FALSE</td></tr>\n",
              "\t<tr><td>FALSE</td><td>FALSE</td><td>FALSE</td><td>FALSE</td><td>FALSE</td></tr>\n",
              "\t<tr><td>FALSE</td><td>FALSE</td><td>FALSE</td><td>FALSE</td><td>FALSE</td></tr>\n",
              "\t<tr><td>FALSE</td><td>FALSE</td><td>FALSE</td><td>FALSE</td><td>FALSE</td></tr>\n",
              "\t<tr><td>FALSE</td><td>FALSE</td><td>FALSE</td><td>FALSE</td><td>FALSE</td></tr>\n",
              "\t<tr><td>FALSE</td><td>FALSE</td><td>FALSE</td><td>FALSE</td><td>FALSE</td></tr>\n",
              "\t<tr><td>FALSE</td><td>FALSE</td><td>FALSE</td><td>FALSE</td><td>FALSE</td></tr>\n",
              "\t<tr><td>FALSE</td><td>FALSE</td><td>FALSE</td><td>FALSE</td><td>FALSE</td></tr>\n",
              "\t<tr><td>FALSE</td><td>FALSE</td><td>FALSE</td><td>FALSE</td><td>FALSE</td></tr>\n",
              "\t<tr><td>FALSE</td><td>FALSE</td><td>FALSE</td><td>FALSE</td><td>FALSE</td></tr>\n",
              "\t<tr><td>FALSE</td><td>FALSE</td><td>FALSE</td><td>FALSE</td><td>FALSE</td></tr>\n",
              "\t<tr><td>FALSE</td><td>FALSE</td><td>FALSE</td><td>FALSE</td><td>FALSE</td></tr>\n",
              "\t<tr><td>FALSE</td><td>FALSE</td><td>FALSE</td><td>FALSE</td><td>FALSE</td></tr>\n",
              "</tbody>\n",
              "</table>\n"
            ],
            "text/markdown": "\nA matrix: 150 × 5 of type lgl\n\n| Sepal.Length | Sepal.Width | Petal.Length | Petal.Width | Species |\n|---|---|---|---|---|\n| FALSE | FALSE | FALSE | FALSE | FALSE |\n| FALSE | FALSE | FALSE | FALSE | FALSE |\n| FALSE | FALSE | FALSE | FALSE | FALSE |\n| FALSE | FALSE | FALSE | FALSE | FALSE |\n| FALSE | FALSE | FALSE | FALSE | FALSE |\n| FALSE | FALSE | FALSE | FALSE | FALSE |\n| FALSE | FALSE | FALSE | FALSE | FALSE |\n| FALSE | FALSE | FALSE | FALSE | FALSE |\n| FALSE | FALSE | FALSE | FALSE | FALSE |\n| FALSE | FALSE | FALSE | FALSE | FALSE |\n| FALSE | FALSE | FALSE | FALSE | FALSE |\n| FALSE | FALSE | FALSE | FALSE | FALSE |\n| FALSE | FALSE | FALSE | FALSE | FALSE |\n| FALSE | FALSE | FALSE | FALSE | FALSE |\n| FALSE | FALSE | FALSE | FALSE | FALSE |\n| FALSE | FALSE | FALSE | FALSE | FALSE |\n| FALSE | FALSE | FALSE | FALSE | FALSE |\n| FALSE | FALSE | FALSE | FALSE | FALSE |\n| FALSE | FALSE | FALSE | FALSE | FALSE |\n| FALSE | FALSE | FALSE | FALSE | FALSE |\n| FALSE | FALSE | FALSE | FALSE | FALSE |\n| FALSE | FALSE | FALSE | FALSE | FALSE |\n| FALSE | FALSE | FALSE | FALSE | FALSE |\n| FALSE | FALSE | FALSE | FALSE | FALSE |\n| FALSE | FALSE | FALSE | FALSE | FALSE |\n| FALSE | FALSE | FALSE | FALSE | FALSE |\n| FALSE | FALSE | FALSE | FALSE | FALSE |\n| FALSE | FALSE | FALSE | FALSE | FALSE |\n| FALSE | FALSE | FALSE | FALSE | FALSE |\n| FALSE | FALSE | FALSE | FALSE | FALSE |\n| ⋮ | ⋮ | ⋮ | ⋮ | ⋮ |\n| FALSE | FALSE | FALSE | FALSE | FALSE |\n| FALSE | FALSE | FALSE | FALSE | FALSE |\n| FALSE | FALSE | FALSE | FALSE | FALSE |\n| FALSE | FALSE | FALSE | FALSE | FALSE |\n| FALSE | FALSE | FALSE | FALSE | FALSE |\n| FALSE | FALSE | FALSE | FALSE | FALSE |\n| FALSE | FALSE | FALSE | FALSE | FALSE |\n| FALSE | FALSE | FALSE | FALSE | FALSE |\n| FALSE | FALSE | FALSE | FALSE | FALSE |\n| FALSE | FALSE | FALSE | FALSE | FALSE |\n| FALSE | FALSE | FALSE | FALSE | FALSE |\n| FALSE | FALSE | FALSE | FALSE | FALSE |\n| FALSE | FALSE | FALSE | FALSE | FALSE |\n| FALSE | FALSE | FALSE | FALSE | FALSE |\n| FALSE | FALSE | FALSE | FALSE | FALSE |\n| FALSE | FALSE | FALSE | FALSE | FALSE |\n| FALSE | FALSE | FALSE | FALSE | FALSE |\n| FALSE | FALSE | FALSE | FALSE | FALSE |\n| FALSE | FALSE | FALSE | FALSE | FALSE |\n| FALSE | FALSE | FALSE | FALSE | FALSE |\n| FALSE | FALSE | FALSE | FALSE | FALSE |\n| FALSE | FALSE | FALSE | FALSE | FALSE |\n| FALSE | FALSE | FALSE | FALSE | FALSE |\n| FALSE | FALSE | FALSE | FALSE | FALSE |\n| FALSE | FALSE | FALSE | FALSE | FALSE |\n| FALSE | FALSE | FALSE | FALSE | FALSE |\n| FALSE | FALSE | FALSE | FALSE | FALSE |\n| FALSE | FALSE | FALSE | FALSE | FALSE |\n| FALSE | FALSE | FALSE | FALSE | FALSE |\n| FALSE | FALSE | FALSE | FALSE | FALSE |\n\n",
            "text/latex": "A matrix: 150 × 5 of type lgl\n\\begin{tabular}{lllll}\n Sepal.Length & Sepal.Width & Petal.Length & Petal.Width & Species\\\\\n\\hline\n\t FALSE & FALSE & FALSE & FALSE & FALSE\\\\\n\t FALSE & FALSE & FALSE & FALSE & FALSE\\\\\n\t FALSE & FALSE & FALSE & FALSE & FALSE\\\\\n\t FALSE & FALSE & FALSE & FALSE & FALSE\\\\\n\t FALSE & FALSE & FALSE & FALSE & FALSE\\\\\n\t FALSE & FALSE & FALSE & FALSE & FALSE\\\\\n\t FALSE & FALSE & FALSE & FALSE & FALSE\\\\\n\t FALSE & FALSE & FALSE & FALSE & FALSE\\\\\n\t FALSE & FALSE & FALSE & FALSE & FALSE\\\\\n\t FALSE & FALSE & FALSE & FALSE & FALSE\\\\\n\t FALSE & FALSE & FALSE & FALSE & FALSE\\\\\n\t FALSE & FALSE & FALSE & FALSE & FALSE\\\\\n\t FALSE & FALSE & FALSE & FALSE & FALSE\\\\\n\t FALSE & FALSE & FALSE & FALSE & FALSE\\\\\n\t FALSE & FALSE & FALSE & FALSE & FALSE\\\\\n\t FALSE & FALSE & FALSE & FALSE & FALSE\\\\\n\t FALSE & FALSE & FALSE & FALSE & FALSE\\\\\n\t FALSE & FALSE & FALSE & FALSE & FALSE\\\\\n\t FALSE & FALSE & FALSE & FALSE & FALSE\\\\\n\t FALSE & FALSE & FALSE & FALSE & FALSE\\\\\n\t FALSE & FALSE & FALSE & FALSE & FALSE\\\\\n\t FALSE & FALSE & FALSE & FALSE & FALSE\\\\\n\t FALSE & FALSE & FALSE & FALSE & FALSE\\\\\n\t FALSE & FALSE & FALSE & FALSE & FALSE\\\\\n\t FALSE & FALSE & FALSE & FALSE & FALSE\\\\\n\t FALSE & FALSE & FALSE & FALSE & FALSE\\\\\n\t FALSE & FALSE & FALSE & FALSE & FALSE\\\\\n\t FALSE & FALSE & FALSE & FALSE & FALSE\\\\\n\t FALSE & FALSE & FALSE & FALSE & FALSE\\\\\n\t FALSE & FALSE & FALSE & FALSE & FALSE\\\\\n\t ⋮ & ⋮ & ⋮ & ⋮ & ⋮\\\\\n\t FALSE & FALSE & FALSE & FALSE & FALSE\\\\\n\t FALSE & FALSE & FALSE & FALSE & FALSE\\\\\n\t FALSE & FALSE & FALSE & FALSE & FALSE\\\\\n\t FALSE & FALSE & FALSE & FALSE & FALSE\\\\\n\t FALSE & FALSE & FALSE & FALSE & FALSE\\\\\n\t FALSE & FALSE & FALSE & FALSE & FALSE\\\\\n\t FALSE & FALSE & FALSE & FALSE & FALSE\\\\\n\t FALSE & FALSE & FALSE & FALSE & FALSE\\\\\n\t FALSE & FALSE & FALSE & FALSE & FALSE\\\\\n\t FALSE & FALSE & FALSE & FALSE & FALSE\\\\\n\t FALSE & FALSE & FALSE & FALSE & FALSE\\\\\n\t FALSE & FALSE & FALSE & FALSE & FALSE\\\\\n\t FALSE & FALSE & FALSE & FALSE & FALSE\\\\\n\t FALSE & FALSE & FALSE & FALSE & FALSE\\\\\n\t FALSE & FALSE & FALSE & FALSE & FALSE\\\\\n\t FALSE & FALSE & FALSE & FALSE & FALSE\\\\\n\t FALSE & FALSE & FALSE & FALSE & FALSE\\\\\n\t FALSE & FALSE & FALSE & FALSE & FALSE\\\\\n\t FALSE & FALSE & FALSE & FALSE & FALSE\\\\\n\t FALSE & FALSE & FALSE & FALSE & FALSE\\\\\n\t FALSE & FALSE & FALSE & FALSE & FALSE\\\\\n\t FALSE & FALSE & FALSE & FALSE & FALSE\\\\\n\t FALSE & FALSE & FALSE & FALSE & FALSE\\\\\n\t FALSE & FALSE & FALSE & FALSE & FALSE\\\\\n\t FALSE & FALSE & FALSE & FALSE & FALSE\\\\\n\t FALSE & FALSE & FALSE & FALSE & FALSE\\\\\n\t FALSE & FALSE & FALSE & FALSE & FALSE\\\\\n\t FALSE & FALSE & FALSE & FALSE & FALSE\\\\\n\t FALSE & FALSE & FALSE & FALSE & FALSE\\\\\n\t FALSE & FALSE & FALSE & FALSE & FALSE\\\\\n\\end{tabular}\n",
            "text/plain": [
              "      Sepal.Length Sepal.Width Petal.Length Petal.Width Species\n",
              " [1,] FALSE        FALSE       FALSE        FALSE       FALSE  \n",
              " [2,] FALSE        FALSE       FALSE        FALSE       FALSE  \n",
              " [3,] FALSE        FALSE       FALSE        FALSE       FALSE  \n",
              " [4,] FALSE        FALSE       FALSE        FALSE       FALSE  \n",
              " [5,] FALSE        FALSE       FALSE        FALSE       FALSE  \n",
              " [6,] FALSE        FALSE       FALSE        FALSE       FALSE  \n",
              " [7,] FALSE        FALSE       FALSE        FALSE       FALSE  \n",
              " [8,] FALSE        FALSE       FALSE        FALSE       FALSE  \n",
              " [9,] FALSE        FALSE       FALSE        FALSE       FALSE  \n",
              "[10,] FALSE        FALSE       FALSE        FALSE       FALSE  \n",
              "[11,] FALSE        FALSE       FALSE        FALSE       FALSE  \n",
              "[12,] FALSE        FALSE       FALSE        FALSE       FALSE  \n",
              "[13,] FALSE        FALSE       FALSE        FALSE       FALSE  \n",
              "[14,] FALSE        FALSE       FALSE        FALSE       FALSE  \n",
              "[15,] FALSE        FALSE       FALSE        FALSE       FALSE  \n",
              "[16,] FALSE        FALSE       FALSE        FALSE       FALSE  \n",
              "[17,] FALSE        FALSE       FALSE        FALSE       FALSE  \n",
              "[18,] FALSE        FALSE       FALSE        FALSE       FALSE  \n",
              "[19,] FALSE        FALSE       FALSE        FALSE       FALSE  \n",
              "[20,] FALSE        FALSE       FALSE        FALSE       FALSE  \n",
              "[21,] FALSE        FALSE       FALSE        FALSE       FALSE  \n",
              "[22,] FALSE        FALSE       FALSE        FALSE       FALSE  \n",
              "[23,] FALSE        FALSE       FALSE        FALSE       FALSE  \n",
              "[24,] FALSE        FALSE       FALSE        FALSE       FALSE  \n",
              "[25,] FALSE        FALSE       FALSE        FALSE       FALSE  \n",
              "[26,] FALSE        FALSE       FALSE        FALSE       FALSE  \n",
              "[27,] FALSE        FALSE       FALSE        FALSE       FALSE  \n",
              "[28,] FALSE        FALSE       FALSE        FALSE       FALSE  \n",
              "[29,] FALSE        FALSE       FALSE        FALSE       FALSE  \n",
              "[30,] FALSE        FALSE       FALSE        FALSE       FALSE  \n",
              "[31,] ⋮            ⋮           ⋮            ⋮           ⋮      \n",
              "[32,] FALSE        FALSE       FALSE        FALSE       FALSE  \n",
              "[33,] FALSE        FALSE       FALSE        FALSE       FALSE  \n",
              "[34,] FALSE        FALSE       FALSE        FALSE       FALSE  \n",
              "[35,] FALSE        FALSE       FALSE        FALSE       FALSE  \n",
              "[36,] FALSE        FALSE       FALSE        FALSE       FALSE  \n",
              "[37,] FALSE        FALSE       FALSE        FALSE       FALSE  \n",
              "[38,] FALSE        FALSE       FALSE        FALSE       FALSE  \n",
              "[39,] FALSE        FALSE       FALSE        FALSE       FALSE  \n",
              "[40,] FALSE        FALSE       FALSE        FALSE       FALSE  \n",
              "[41,] FALSE        FALSE       FALSE        FALSE       FALSE  \n",
              "[42,] FALSE        FALSE       FALSE        FALSE       FALSE  \n",
              "[43,] FALSE        FALSE       FALSE        FALSE       FALSE  \n",
              "[44,] FALSE        FALSE       FALSE        FALSE       FALSE  \n",
              "[45,] FALSE        FALSE       FALSE        FALSE       FALSE  \n",
              "[46,] FALSE        FALSE       FALSE        FALSE       FALSE  \n",
              "[47,] FALSE        FALSE       FALSE        FALSE       FALSE  \n",
              "[48,] FALSE        FALSE       FALSE        FALSE       FALSE  \n",
              "[49,] FALSE        FALSE       FALSE        FALSE       FALSE  \n",
              "[50,] FALSE        FALSE       FALSE        FALSE       FALSE  \n",
              "[51,] FALSE        FALSE       FALSE        FALSE       FALSE  \n",
              "[52,] FALSE        FALSE       FALSE        FALSE       FALSE  \n",
              "[53,] FALSE        FALSE       FALSE        FALSE       FALSE  \n",
              "[54,] FALSE        FALSE       FALSE        FALSE       FALSE  \n",
              "[55,] FALSE        FALSE       FALSE        FALSE       FALSE  \n",
              "[56,] FALSE        FALSE       FALSE        FALSE       FALSE  \n",
              "[57,] FALSE        FALSE       FALSE        FALSE       FALSE  \n",
              "[58,] FALSE        FALSE       FALSE        FALSE       FALSE  \n",
              "[59,] FALSE        FALSE       FALSE        FALSE       FALSE  \n",
              "[60,] FALSE        FALSE       FALSE        FALSE       FALSE  \n",
              "[61,] FALSE        FALSE       FALSE        FALSE       FALSE  "
            ]
          },
          "metadata": {}
        }
      ]
    },
    {
      "cell_type": "markdown",
      "source": [
        "no missing value in the data"
      ],
      "metadata": {
        "id": "3V2FswK8PkNI"
      }
    },
    {
      "cell_type": "markdown",
      "source": [
        "Check the distribution of data."
      ],
      "metadata": {
        "id": "1rpnMmXAPpy_"
      }
    },
    {
      "cell_type": "code",
      "source": [
        "\n",
        "install.packages(\"ggplot2\")\n",
        "library(ggplot2)\n"
      ],
      "metadata": {
        "colab": {
          "base_uri": "https://localhost:8080/"
        },
        "id": "eqtLyIKJPl14",
        "outputId": "39b72d00-252d-401f-98c6-285e4e833bec"
      },
      "execution_count": null,
      "outputs": [
        {
          "output_type": "stream",
          "name": "stderr",
          "text": [
            "Installing package into ‘/usr/local/lib/R/site-library’\n",
            "(as ‘lib’ is unspecified)\n",
            "\n"
          ]
        }
      ]
    },
    {
      "cell_type": "markdown",
      "source": [
        "#check the distribution"
      ],
      "metadata": {
        "id": "4E5aQpTDPyx7"
      }
    },
    {
      "cell_type": "code",
      "source": [
        "hist(data$Sepal.Length)"
      ],
      "metadata": {
        "colab": {
          "base_uri": "https://localhost:8080/",
          "height": 437
        },
        "id": "yc0JFRuTP70i",
        "outputId": "ea971ae5-644a-439d-92e4-f97e21fff03b"
      },
      "execution_count": null,
      "outputs": [
        {
          "output_type": "display_data",
          "data": {
            "text/plain": [
              "Plot with title “Histogram of data$Sepal.Length”"
            ],
            "image/png": "[encoded data removed]"
          },
          "metadata": {
            "image/png": {
              "width": 420,
              "height": 420
            }
          }
        }
      ]
    },
    {
      "cell_type": "code",
      "source": [
        "hist(data$Petal.Width)"
      ],
      "metadata": {
        "colab": {
          "base_uri": "https://localhost:8080/",
          "height": 437
        },
        "id": "6lq6vi9ZP-o1",
        "outputId": "fff7c860-8a4d-4762-8d21-69e9785e3ca8"
      },
      "execution_count": null,
      "outputs": [
        {
          "output_type": "display_data",
          "data": {
            "text/plain": [
              "Plot with title “Histogram of data$Petal.Width”"
            ],
            "image/png": "[encoded data removed]"
          },
          "metadata": {
            "image/png": {
              "width": 420,
              "height": 420
            }
          }
        }
      ]
    },
    {
      "cell_type": "code",
      "source": [
        "hist(data$Petal.Length)"
      ],
      "metadata": {
        "colab": {
          "base_uri": "https://localhost:8080/",
          "height": 437
        },
        "id": "R-pL1vVjQFu9",
        "outputId": "0de8c83b-4b96-4b3f-f660-d5cb4a824380"
      },
      "execution_count": null,
      "outputs": [
        {
          "output_type": "display_data",
          "data": {
            "text/plain": [
              "Plot with title “Histogram of data$Petal.Length”"
            ],
            "image/png": "[encoded data removed]"
          },
          "metadata": {
            "image/png": {
              "width": 420,
              "height": 420
            }
          }
        }
      ]
    },
    {
      "cell_type": "code",
      "source": [
        "#only sepal width are follow normal distribution\n",
        "hist(data$Sepal.Width)"
      ],
      "metadata": {
        "colab": {
          "base_uri": "https://localhost:8080/",
          "height": 437
        },
        "id": "gNrLz74mQIUM",
        "outputId": "0344f680-dbd6-4333-ba53-1e9f1fc6a82b"
      },
      "execution_count": null,
      "outputs": [
        {
          "output_type": "display_data",
          "data": {
            "text/plain": [
              "Plot with title “Histogram of data$Sepal.Width”"
            ],
            "image/png": "[encoded data removed]"
          },
          "metadata": {
            "image/png": {
              "width": 420,
              "height": 420
            }
          }
        }
      ]
    },
    {
      "cell_type": "markdown",
      "source": [
        "plot does not understand the data properly"
      ],
      "metadata": {
        "id": "ELOwDvuCQMtw"
      }
    },
    {
      "cell_type": "markdown",
      "source": [
        "**Check the correlation**\n",
        "\n"
      ],
      "metadata": {
        "id": "LO87n4iFQU5A"
      }
    },
    {
      "cell_type": "code",
      "source": [
        "cor.test(data$Sepal.Length,data$Sepal.Width)"
      ],
      "metadata": {
        "colab": {
          "base_uri": "https://localhost:8080/",
          "height": 208
        },
        "id": "w4tdNmcHQt0r",
        "outputId": "0568c70c-b800-4578-c064-9252b3b8a681"
      },
      "execution_count": null,
      "outputs": [
        {
          "output_type": "display_data",
          "data": {
            "text/plain": [
              "\n",
              "\tPearson's product-moment correlation\n",
              "\n",
              "data:  data$Sepal.Length and data$Sepal.Width\n",
              "t = -1.4403, df = 148, p-value = 0.1519\n",
              "alternative hypothesis: true correlation is not equal to 0\n",
              "95 percent confidence interval:\n",
              " -0.27269325  0.04351158\n",
              "sample estimates:\n",
              "       cor \n",
              "-0.1175698 \n"
            ]
          },
          "metadata": {}
        }
      ]
    },
    {
      "cell_type": "code",
      "source": [
        "# no correlation between thw sepal.length and sepalwidth\n",
        "cor.test(data$Sepal.Length,data$Petal.Length)"
      ],
      "metadata": {
        "colab": {
          "base_uri": "https://localhost:8080/",
          "height": 208
        },
        "id": "ggE9xppTQxnB",
        "outputId": "eeef77c0-64fd-4018-ab18-95554be39cab"
      },
      "execution_count": null,
      "outputs": [
        {
          "output_type": "display_data",
          "data": {
            "text/plain": [
              "\n",
              "\tPearson's product-moment correlation\n",
              "\n",
              "data:  data$Sepal.Length and data$Petal.Length\n",
              "t = 21.646, df = 148, p-value < 2.2e-16\n",
              "alternative hypothesis: true correlation is not equal to 0\n",
              "95 percent confidence interval:\n",
              " 0.8270363 0.9055080\n",
              "sample estimates:\n",
              "      cor \n",
              "0.8717538 \n"
            ]
          },
          "metadata": {}
        }
      ]
    },
    {
      "cell_type": "markdown",
      "source": [
        "#reject H0 and conclude that correlation are present"
      ],
      "metadata": {
        "id": "7thXAYVYQ2A_"
      }
    },
    {
      "cell_type": "markdown",
      "source": [
        "#plot correllogram"
      ],
      "metadata": {
        "id": "fDun91gkQ72w"
      }
    },
    {
      "cell_type": "code",
      "source": [
        "install.packages(\"corrplot\")\n",
        "library(corrplot)"
      ],
      "metadata": {
        "colab": {
          "base_uri": "https://localhost:8080/"
        },
        "id": "sw5Uy8teQ1rF",
        "outputId": "0b8ef213-7bc7-4233-b7ac-d091de7aafbb"
      },
      "execution_count": null,
      "outputs": [
        {
          "output_type": "stream",
          "name": "stderr",
          "text": [
            "Installing package into ‘/usr/local/lib/R/site-library’\n",
            "(as ‘lib’ is unspecified)\n",
            "\n",
            "corrplot 0.92 loaded\n",
            "\n"
          ]
        }
      ]
    },
    {
      "cell_type": "code",
      "source": [
        "# drop the non numeric column in the data set\n",
        "data1=subset(data,select=-c(Species))\n",
        "str(data1)\n",
        "head(data1)"
      ],
      "metadata": {
        "colab": {
          "base_uri": "https://localhost:8080/",
          "height": 373
        },
        "id": "qPIJZjbARByD",
        "outputId": "2f9cead1-8921-4deb-e201-45930d08c411"
      },
      "execution_count": null,
      "outputs": [
        {
          "output_type": "stream",
          "name": "stdout",
          "text": [
            "'data.frame':\t150 obs. of  4 variables:\n",
            " $ Sepal.Length: num  5.1 4.9 4.7 4.6 5 5.4 4.6 5 4.4 4.9 ...\n",
            " $ Sepal.Width : num  3.5 3 3.2 3.1 3.6 3.9 3.4 3.4 2.9 3.1 ...\n",
            " $ Petal.Length: num  1.4 1.4 1.3 1.5 1.4 1.7 1.4 1.5 1.4 1.5 ...\n",
            " $ Petal.Width : num  0.2 0.2 0.2 0.2 0.2 0.4 0.3 0.2 0.2 0.1 ...\n"
          ]
        },
        {
          "output_type": "display_data",
          "data": {
            "text/html": [
              "<table class=\"dataframe\">\n",
              "<caption>A data.frame: 6 × 4</caption>\n",
              "<thead>\n",
              "\t<tr><th></th><th scope=col>Sepal.Length</th><th scope=col>Sepal.Width</th><th scope=col>Petal.Length</th><th scope=col>Petal.Width</th></tr>\n",
              "\t<tr><th></th><th scope=col>&lt;dbl&gt;</th><th scope=col>&lt;dbl&gt;</th><th scope=col>&lt;dbl&gt;</th><th scope=col>&lt;dbl&gt;</th></tr>\n",
              "</thead>\n",
              "<tbody>\n",
              "\t<tr><th scope=row>1</th><td>5.1</td><td>3.5</td><td>1.4</td><td>0.2</td></tr>\n",
              "\t<tr><th scope=row>2</th><td>4.9</td><td>3.0</td><td>1.4</td><td>0.2</td></tr>\n",
              "\t<tr><th scope=row>3</th><td>4.7</td><td>3.2</td><td>1.3</td><td>0.2</td></tr>\n",
              "\t<tr><th scope=row>4</th><td>4.6</td><td>3.1</td><td>1.5</td><td>0.2</td></tr>\n",
              "\t<tr><th scope=row>5</th><td>5.0</td><td>3.6</td><td>1.4</td><td>0.2</td></tr>\n",
              "\t<tr><th scope=row>6</th><td>5.4</td><td>3.9</td><td>1.7</td><td>0.4</td></tr>\n",
              "</tbody>\n",
              "</table>\n"
            ],
            "text/markdown": "\nA data.frame: 6 × 4\n\n| <!--/--> | Sepal.Length &lt;dbl&gt; | Sepal.Width &lt;dbl&gt; | Petal.Length &lt;dbl&gt; | Petal.Width &lt;dbl&gt; |\n|---|---|---|---|---|\n| 1 | 5.1 | 3.5 | 1.4 | 0.2 |\n| 2 | 4.9 | 3.0 | 1.4 | 0.2 |\n| 3 | 4.7 | 3.2 | 1.3 | 0.2 |\n| 4 | 4.6 | 3.1 | 1.5 | 0.2 |\n| 5 | 5.0 | 3.6 | 1.4 | 0.2 |\n| 6 | 5.4 | 3.9 | 1.7 | 0.4 |\n\n",
            "text/latex": "A data.frame: 6 × 4\n\\begin{tabular}{r|llll}\n  & Sepal.Length & Sepal.Width & Petal.Length & Petal.Width\\\\\n  & <dbl> & <dbl> & <dbl> & <dbl>\\\\\n\\hline\n\t1 & 5.1 & 3.5 & 1.4 & 0.2\\\\\n\t2 & 4.9 & 3.0 & 1.4 & 0.2\\\\\n\t3 & 4.7 & 3.2 & 1.3 & 0.2\\\\\n\t4 & 4.6 & 3.1 & 1.5 & 0.2\\\\\n\t5 & 5.0 & 3.6 & 1.4 & 0.2\\\\\n\t6 & 5.4 & 3.9 & 1.7 & 0.4\\\\\n\\end{tabular}\n",
            "text/plain": [
              "  Sepal.Length Sepal.Width Petal.Length Petal.Width\n",
              "1 5.1          3.5         1.4          0.2        \n",
              "2 4.9          3.0         1.4          0.2        \n",
              "3 4.7          3.2         1.3          0.2        \n",
              "4 4.6          3.1         1.5          0.2        \n",
              "5 5.0          3.6         1.4          0.2        \n",
              "6 5.4          3.9         1.7          0.4        "
            ]
          },
          "metadata": {}
        }
      ]
    },
    {
      "cell_type": "code",
      "source": [
        "# plot and check the assumption of data1 dataset\n",
        "cor=cor(data1)\n",
        "corrplot(cor,main=\"correlation plot\")"
      ],
      "metadata": {
        "colab": {
          "base_uri": "https://localhost:8080/",
          "height": 437
        },
        "id": "OXmOM8O4REro",
        "outputId": "6746e194-ba89-4cbc-ef38-ba2403cff722"
      },
      "execution_count": null,
      "outputs": [
        {
          "output_type": "display_data",
          "data": {
            "text/plain": [
              "Plot with title “correlation plot”"
            ],
            "image/png": "[encoded data removed]"
          },
          "metadata": {
            "image/png": {
              "width": 420,
              "height": 420
            }
          }
        }
      ]
    },
    {
      "cell_type": "markdown",
      "source": [
        " The variable are correlation"
      ],
      "metadata": {
        "id": "Ss_67mT6RIpP"
      }
    },
    {
      "cell_type": "markdown",
      "source": [
        "# Make a linear regression model"
      ],
      "metadata": {
        "id": "seeOUsIoRN0k"
      }
    },
    {
      "cell_type": "code",
      "source": [
        "M1=lm(Sepal.Length~.,data=data1)\n",
        "M1"
      ],
      "metadata": {
        "colab": {
          "base_uri": "https://localhost:8080/",
          "height": 138
        },
        "id": "YBby0WGARLlT",
        "outputId": "97188543-dfbe-45f4-bc69-e41da106e677"
      },
      "execution_count": null,
      "outputs": [
        {
          "output_type": "display_data",
          "data": {
            "text/plain": [
              "\n",
              "Call:\n",
              "lm(formula = Sepal.Length ~ ., data = data1)\n",
              "\n",
              "Coefficients:\n",
              " (Intercept)   Sepal.Width  Petal.Length   Petal.Width  \n",
              "      1.8560        0.6508        0.7091       -0.5565  \n"
            ]
          },
          "metadata": {}
        }
      ]
    },
    {
      "cell_type": "code",
      "source": [
        "M1=lm(Sepal.Length~.,data=data1)\n",
        "M1"
      ],
      "metadata": {
        "colab": {
          "base_uri": "https://localhost:8080/",
          "height": 138
        },
        "id": "V7XCzm70RxYa",
        "outputId": "a5e6ffd7-1381-4013-c452-f09cbad04b34"
      },
      "execution_count": null,
      "outputs": [
        {
          "output_type": "display_data",
          "data": {
            "text/plain": [
              "\n",
              "Call:\n",
              "lm(formula = Sepal.Length ~ ., data = data1)\n",
              "\n",
              "Coefficients:\n",
              " (Intercept)   Sepal.Width  Petal.Length   Petal.Width  \n",
              "      1.8560        0.6508        0.7091       -0.5565  \n"
            ]
          },
          "metadata": {}
        }
      ]
    },
    {
      "cell_type": "code",
      "source": [
        "summary(M1)"
      ],
      "metadata": {
        "colab": {
          "base_uri": "https://localhost:8080/",
          "height": 364
        },
        "id": "SWck0kuhR08q",
        "outputId": "1f8d9ed1-b429-45b2-ad33-a15d09a617be"
      },
      "execution_count": null,
      "outputs": [
        {
          "output_type": "display_data",
          "data": {
            "text/plain": [
              "\n",
              "Call:\n",
              "lm(formula = Sepal.Length ~ ., data = data1)\n",
              "\n",
              "Residuals:\n",
              "     Min       1Q   Median       3Q      Max \n",
              "-0.82816 -0.21989  0.01875  0.19709  0.84570 \n",
              "\n",
              "Coefficients:\n",
              "             Estimate Std. Error t value Pr(>|t|)    \n",
              "(Intercept)   1.85600    0.25078   7.401 9.85e-12 ***\n",
              "Sepal.Width   0.65084    0.06665   9.765  < 2e-16 ***\n",
              "Petal.Length  0.70913    0.05672  12.502  < 2e-16 ***\n",
              "Petal.Width  -0.55648    0.12755  -4.363 2.41e-05 ***\n",
              "---\n",
              "Signif. codes:  0 ‘***’ 0.001 ‘**’ 0.01 ‘*’ 0.05 ‘.’ 0.1 ‘ ’ 1\n",
              "\n",
              "Residual standard error: 0.3145 on 146 degrees of freedom\n",
              "Multiple R-squared:  0.8586,\tAdjusted R-squared:  0.8557 \n",
              "F-statistic: 295.5 on 3 and 146 DF,  p-value: < 2.2e-16\n"
            ]
          },
          "metadata": {}
        }
      ]
    },
    {
      "cell_type": "code",
      "source": [
        "anova(M1)"
      ],
      "metadata": {
        "colab": {
          "base_uri": "https://localhost:8080/",
          "height": 223
        },
        "id": "0jUliPtVR3su",
        "outputId": "ef4b9d1c-9d61-4569-dd3d-4b4f858e28b2"
      },
      "execution_count": null,
      "outputs": [
        {
          "output_type": "display_data",
          "data": {
            "text/html": [
              "<table class=\"dataframe\">\n",
              "<caption>A anova: 4 × 5</caption>\n",
              "<thead>\n",
              "\t<tr><th></th><th scope=col>Df</th><th scope=col>Sum Sq</th><th scope=col>Mean Sq</th><th scope=col>F value</th><th scope=col>Pr(&gt;F)</th></tr>\n",
              "\t<tr><th></th><th scope=col>&lt;int&gt;</th><th scope=col>&lt;dbl&gt;</th><th scope=col>&lt;dbl&gt;</th><th scope=col>&lt;dbl&gt;</th><th scope=col>&lt;dbl&gt;</th></tr>\n",
              "</thead>\n",
              "<tbody>\n",
              "\t<tr><th scope=row>Sepal.Width</th><td>  1</td><td> 1.412238</td><td> 1.41223754</td><td> 14.27351</td><td>2.295867e-04</td></tr>\n",
              "\t<tr><th scope=row>Petal.Length</th><td>  1</td><td>84.427332</td><td>84.42733161</td><td>853.30875</td><td>7.455850e-63</td></tr>\n",
              "\t<tr><th scope=row>Petal.Width</th><td>  1</td><td> 1.883359</td><td> 1.88335927</td><td> 19.03515</td><td>2.412876e-05</td></tr>\n",
              "\t<tr><th scope=row>Residuals</th><td>146</td><td>14.445405</td><td> 0.09894113</td><td>       NA</td><td>          NA</td></tr>\n",
              "</tbody>\n",
              "</table>\n"
            ],
            "text/markdown": "\nA anova: 4 × 5\n\n| <!--/--> | Df &lt;int&gt; | Sum Sq &lt;dbl&gt; | Mean Sq &lt;dbl&gt; | F value &lt;dbl&gt; | Pr(&gt;F) &lt;dbl&gt; |\n|---|---|---|---|---|---|\n| Sepal.Width |   1 |  1.412238 |  1.41223754 |  14.27351 | 2.295867e-04 |\n| Petal.Length |   1 | 84.427332 | 84.42733161 | 853.30875 | 7.455850e-63 |\n| Petal.Width |   1 |  1.883359 |  1.88335927 |  19.03515 | 2.412876e-05 |\n| Residuals | 146 | 14.445405 |  0.09894113 |        NA |           NA |\n\n",
            "text/latex": "A anova: 4 × 5\n\\begin{tabular}{r|lllll}\n  & Df & Sum Sq & Mean Sq & F value & Pr(>F)\\\\\n  & <int> & <dbl> & <dbl> & <dbl> & <dbl>\\\\\n\\hline\n\tSepal.Width &   1 &  1.412238 &  1.41223754 &  14.27351 & 2.295867e-04\\\\\n\tPetal.Length &   1 & 84.427332 & 84.42733161 & 853.30875 & 7.455850e-63\\\\\n\tPetal.Width &   1 &  1.883359 &  1.88335927 &  19.03515 & 2.412876e-05\\\\\n\tResiduals & 146 & 14.445405 &  0.09894113 &        NA &           NA\\\\\n\\end{tabular}\n",
            "text/plain": [
              "             Df  Sum Sq    Mean Sq     F value   Pr(>F)      \n",
              "Sepal.Width    1  1.412238  1.41223754  14.27351 2.295867e-04\n",
              "Petal.Length   1 84.427332 84.42733161 853.30875 7.455850e-63\n",
              "Petal.Width    1  1.883359  1.88335927  19.03515 2.412876e-05\n",
              "Residuals    146 14.445405  0.09894113        NA           NA"
            ]
          },
          "metadata": {}
        }
      ]
    },
    {
      "cell_type": "markdown",
      "source": [
        " HERE ALL VARIABLE ARE SIGNIFICANT P VALUE LESS THAN 0.05\n",
        "\n",
        "\n",
        "85 % model show best  accurancy"
      ],
      "metadata": {
        "id": "K4R4ZF7rSyAP"
      }
    },
    {
      "cell_type": "markdown",
      "source": [
        "\n",
        "Checking the assumputions\n",
        "\n",
        "auto correction (durbin watson test)\n",
        "\n",
        "Hypothesis\n",
        "\n",
        "H0:Auto correction is absent     v/s\n",
        "  \n",
        "H1: Auto correction is present"
      ],
      "metadata": {
        "id": "5yOSSrk4S4-j"
      }
    },
    {
      "cell_type": "code",
      "source": [
        "install.packages(\"car\")\n",
        "library(car)\n",
        "durbinWatsonTest(M1)"
      ],
      "metadata": {
        "colab": {
          "base_uri": "https://localhost:8080/",
          "height": 228
        },
        "id": "_H3wHYLhTAnD",
        "outputId": "b1e118f5-05e2-4e27-a4f5-b596bb0f29c7"
      },
      "execution_count": null,
      "outputs": [
        {
          "output_type": "stream",
          "name": "stderr",
          "text": [
            "Installing package into ‘/usr/local/lib/R/site-library’\n",
            "(as ‘lib’ is unspecified)\n",
            "\n",
            "also installing the dependencies ‘numDeriv’, ‘SparseM’, ‘MatrixModels’, ‘minqa’, ‘nloptr’, ‘Rcpp’, ‘RcppEigen’, ‘carData’, ‘abind’, ‘pbkrtest’, ‘quantreg’, ‘lme4’\n",
            "\n",
            "\n",
            "Loading required package: carData\n",
            "\n"
          ]
        },
        {
          "output_type": "display_data",
          "data": {
            "text/plain": [
              " lag Autocorrelation D-W Statistic p-value\n",
              "   1     -0.03992126      2.060382   0.766\n",
              " Alternative hypothesis: rho != 0"
            ]
          },
          "metadata": {}
        }
      ]
    },
    {
      "cell_type": "markdown",
      "source": [
        "###Reject Ho, means auto correction is present as p value is greater then\n",
        "###alpha 0.05 thats why do not reject Ho not and conclude auto correlaion absent"
      ],
      "metadata": {
        "id": "p99mxYEATbCz"
      }
    },
    {
      "cell_type": "markdown",
      "source": [
        "## Checking for Hetrosecdasticity"
      ],
      "metadata": {
        "id": "81TF4NOfTpcZ"
      }
    },
    {
      "cell_type": "markdown",
      "source": [
        "####Hypothesis Ho: rho:0(Homoscedastic is present)  v/s H1:rho=!0(Heteroscedasticity is present)\n"
      ],
      "metadata": {
        "id": "hcOx6YlzTyGJ"
      }
    },
    {
      "cell_type": "code",
      "source": [
        "install.packages(\"lmtest\")\n",
        "library(lmtest)\n",
        "bptest(M1)"
      ],
      "metadata": {
        "colab": {
          "base_uri": "https://localhost:8080/",
          "height": 399
        },
        "id": "2qcSyzxnTnBM",
        "outputId": "7d812902-610d-4859-c7e2-0fa1ea8359df"
      },
      "execution_count": null,
      "outputs": [
        {
          "output_type": "stream",
          "name": "stderr",
          "text": [
            "Installing package into ‘/usr/local/lib/R/site-library’\n",
            "(as ‘lib’ is unspecified)\n",
            "\n",
            "also installing the dependency ‘zoo’\n",
            "\n",
            "\n",
            "Loading required package: zoo\n",
            "\n",
            "\n",
            "Attaching package: ‘zoo’\n",
            "\n",
            "\n",
            "The following objects are masked from ‘package:base’:\n",
            "\n",
            "    as.Date, as.Date.numeric\n",
            "\n",
            "\n"
          ]
        },
        {
          "output_type": "display_data",
          "data": {
            "text/plain": [
              "\n",
              "\tstudentized Breusch-Pagan test\n",
              "\n",
              "data:  M1\n",
              "BP = 6.9605, df = 3, p-value = 0.07317\n"
            ]
          },
          "metadata": {}
        }
      ]
    },
    {
      "cell_type": "markdown",
      "source": [
        "p values is less than 0.05 thats why do not  Reject H0\n",
        "####means data is Homoscedasticy\n"
      ],
      "metadata": {
        "id": "o5s1nQSIT9xA"
      }
    },
    {
      "cell_type": "markdown",
      "source": [
        "## Multicollinearity"
      ],
      "metadata": {
        "id": "O6HSw_zjUIiQ"
      }
    },
    {
      "cell_type": "code",
      "source": [
        "vif(M1)"
      ],
      "metadata": {
        "colab": {
          "base_uri": "https://localhost:8080/",
          "height": 34
        },
        "id": "u9nXpTpjTnY2",
        "outputId": "3c09023a-1778-467b-a617-005fa61b8c36"
      },
      "execution_count": null,
      "outputs": [
        {
          "output_type": "display_data",
          "data": {
            "text/html": [
              "<style>\n",
              ".dl-inline {width: auto; margin:0; padding: 0}\n",
              ".dl-inline>dt, .dl-inline>dd {float: none; width: auto; display: inline-block}\n",
              ".dl-inline>dt::after {content: \":\\0020\"; padding-right: .5ex}\n",
              ".dl-inline>dt:not(:first-of-type) {padding-left: .5ex}\n",
              "</style><dl class=dl-inline><dt>Sepal.Width</dt><dd>1.27081492934466</dd><dt>Petal.Length</dt><dd>15.0975723229157</dd><dt>Petal.Width</dt><dd>14.2343349717421</dd></dl>\n"
            ],
            "text/markdown": "Sepal.Width\n:   1.27081492934466Petal.Length\n:   15.0975723229157Petal.Width\n:   14.2343349717421\n\n",
            "text/latex": "\\begin{description*}\n\\item[Sepal.Width] 1.27081492934466\n\\item[Petal.Length] 15.0975723229157\n\\item[Petal.Width] 14.2343349717421\n\\end{description*}\n",
            "text/plain": [
              " Sepal.Width Petal.Length  Petal.Width \n",
              "    1.270815    15.097572    14.234335 "
            ]
          },
          "metadata": {}
        }
      ]
    },
    {
      "cell_type": "markdown",
      "source": [
        "petal.length and petal width are greater than 5 vif value so multi collinearity present\n"
      ],
      "metadata": {
        "id": "X45sXWMvUSsK"
      }
    },
    {
      "cell_type": "code",
      "source": [
        "#checking for normality\n",
        "hist(data1$Sepal.Length)"
      ],
      "metadata": {
        "colab": {
          "base_uri": "https://localhost:8080/",
          "height": 437
        },
        "id": "AQqBITjETNCw",
        "outputId": "f110664a-deeb-4115-8544-1012e88a21d7"
      },
      "execution_count": null,
      "outputs": [
        {
          "output_type": "display_data",
          "data": {
            "text/plain": [
              "Plot with title “Histogram of data1$Sepal.Length”"
            ],
            "image/png": "[encoded data removed]"
          },
          "metadata": {
            "image/png": {
              "width": 420,
              "height": 420
            }
          }
        }
      ]
    },
    {
      "cell_type": "code",
      "source": [
        "qqnorm(M1$residuals)"
      ],
      "metadata": {
        "colab": {
          "base_uri": "https://localhost:8080/",
          "height": 437
        },
        "id": "NxFfxwjeTmrC",
        "outputId": "51d16676-fbba-4342-c49d-b40c53f39bd7"
      },
      "execution_count": null,
      "outputs": [
        {
          "output_type": "display_data",
          "data": {
            "text/plain": [
              "Plot with title “Normal Q-Q Plot”"
            ],
            "image/png": "[encoded data removed]"
          },
          "metadata": {
            "image/png": {
              "width": 420,
              "height": 420
            }
          }
        }
      ]
    },
    {
      "cell_type": "code",
      "source": [
        "#qqline(M1$residuals)\n",
        "plot.new()\n",
        "qqline(M1$residuals)"
      ],
      "metadata": {
        "colab": {
          "base_uri": "https://localhost:8080/",
          "height": 437
        },
        "id": "g_1SNW0kUhZN",
        "outputId": "6ffc5b72-f003-4bb5-f519-f5a284181b3e"
      },
      "execution_count": null,
      "outputs": [
        {
          "output_type": "display_data",
          "data": {
            "text/plain": [
              "plot without title"
            ],
            "image/png": "[encoded data removed]"
          },
          "metadata": {
            "image/png": {
              "width": 420,
              "height": 420
            }
          }
        }
      ]
    },
    {
      "cell_type": "code",
      "source": [
        "shapiro.test(M1$residuals)"
      ],
      "metadata": {
        "colab": {
          "base_uri": "https://localhost:8080/",
          "height": 104
        },
        "id": "a-ZMdNA5Ui_b",
        "outputId": "073319ac-d229-4957-a107-5d7984fca548"
      },
      "execution_count": null,
      "outputs": [
        {
          "output_type": "display_data",
          "data": {
            "text/plain": [
              "\n",
              "\tShapiro-Wilk normality test\n",
              "\n",
              "data:  M1$residuals\n",
              "W = 0.99559, p-value = 0.9349\n"
            ]
          },
          "metadata": {}
        }
      ]
    },
    {
      "cell_type": "markdown",
      "source": [],
      "metadata": {
        "id": "u25GhLV2V1DC"
      }
    },
    {
      "cell_type": "markdown",
      "source": [
        "###Normality also satisfy these model are perfect"
      ],
      "metadata": {
        "id": "HOneRa4-TKGh"
      }
    },
    {
      "cell_type": "code",
      "source": [
        "summary(M1)"
      ],
      "metadata": {
        "colab": {
          "base_uri": "https://localhost:8080/",
          "height": 364
        },
        "id": "NLKx5YHMUqfi",
        "outputId": "a7283173-1c29-4088-80fa-ba0ecfc2f988"
      },
      "execution_count": null,
      "outputs": [
        {
          "output_type": "display_data",
          "data": {
            "text/plain": [
              "\n",
              "Call:\n",
              "lm(formula = Sepal.Length ~ ., data = data1)\n",
              "\n",
              "Residuals:\n",
              "     Min       1Q   Median       3Q      Max \n",
              "-0.82816 -0.21989  0.01875  0.19709  0.84570 \n",
              "\n",
              "Coefficients:\n",
              "             Estimate Std. Error t value Pr(>|t|)    \n",
              "(Intercept)   1.85600    0.25078   7.401 9.85e-12 ***\n",
              "Sepal.Width   0.65084    0.06665   9.765  < 2e-16 ***\n",
              "Petal.Length  0.70913    0.05672  12.502  < 2e-16 ***\n",
              "Petal.Width  -0.55648    0.12755  -4.363 2.41e-05 ***\n",
              "---\n",
              "Signif. codes:  0 ‘***’ 0.001 ‘**’ 0.01 ‘*’ 0.05 ‘.’ 0.1 ‘ ’ 1\n",
              "\n",
              "Residual standard error: 0.3145 on 146 degrees of freedom\n",
              "Multiple R-squared:  0.8586,\tAdjusted R-squared:  0.8557 \n",
              "F-statistic: 295.5 on 3 and 146 DF,  p-value: < 2.2e-16\n"
            ]
          },
          "metadata": {}
        }
      ]
    }
  ]
}